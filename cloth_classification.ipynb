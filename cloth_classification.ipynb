{
  "nbformat": 4,
  "nbformat_minor": 0,
  "metadata": {
    "colab": {
      "provenance": []
    },
    "kernelspec": {
      "name": "python3",
      "display_name": "Python 3"
    },
    "language_info": {
      "name": "python"
    },
    "gpuClass": "standard"
  },
  "cells": [
    {
      "cell_type": "code",
      "execution_count": 3,
      "metadata": {
        "id": "sdBeJfyIsfx7"
      },
      "outputs": [],
      "source": [
        "#################################################################################################################################\n",
        "################################################   딥러닝  22.11.14 : 1주차 code ################################################\n",
        "#################################################################################################################################\n",
        "\n",
        "import tensorflow as tf\n",
        "from tensorflow.keras.datasets import fashion_mnist\n",
        "from tensorflow.keras.utils import to_categorical # 원합인코딩()\n",
        "from tensorflow.keras.layers import Dense, Flatten # 히든 레이터 한단을 만들기위해 /\n",
        "from tensorflow.keras.models import Sequential # 차례대로 모형을 쌓겠다\n",
        "\n",
        "from sklearn.metrics import confusion_matrix\n",
        "import matplotlib.pyplot as plt\n",
        "import pandas as pd\n",
        "import numpy as np"
      ]
    },
    {
      "cell_type": "code",
      "source": [
        "(x_train,y_train),(x_test,y_test) = fashion_mnist.load_data() "
      ],
      "metadata": {
        "colab": {
          "base_uri": "https://localhost:8080/"
        },
        "id": "_YvShOjlspu3",
        "outputId": "1a3f2597-2853-465c-ae74-39096992a8d4"
      },
      "execution_count": 4,
      "outputs": [
        {
          "output_type": "stream",
          "name": "stdout",
          "text": [
            "Downloading data from https://storage.googleapis.com/tensorflow/tf-keras-datasets/train-labels-idx1-ubyte.gz\n",
            "29515/29515 [==============================] - 0s 0us/step\n",
            "Downloading data from https://storage.googleapis.com/tensorflow/tf-keras-datasets/train-images-idx3-ubyte.gz\n",
            "26421880/26421880 [==============================] - 0s 0us/step\n",
            "Downloading data from https://storage.googleapis.com/tensorflow/tf-keras-datasets/t10k-labels-idx1-ubyte.gz\n",
            "5148/5148 [==============================] - 0s 0us/step\n",
            "Downloading data from https://storage.googleapis.com/tensorflow/tf-keras-datasets/t10k-images-idx3-ubyte.gz\n",
            "4422102/4422102 [==============================] - 0s 0us/step\n"
          ]
        }
      ]
    },
    {
      "cell_type": "code",
      "source": [
        "x_train[0].shape"
      ],
      "metadata": {
        "colab": {
          "base_uri": "https://localhost:8080/"
        },
        "id": "K5-Nd-KrtBSV",
        "outputId": "dacc36d0-151c-4736-d89e-465280b90a51"
      },
      "execution_count": 5,
      "outputs": [
        {
          "output_type": "execute_result",
          "data": {
            "text/plain": [
              "(28, 28)"
            ]
          },
          "metadata": {},
          "execution_count": 5
        }
      ]
    },
    {
      "cell_type": "code",
      "source": [
        "# label 이름을 저장\n",
        "# 딕셔너리의 형태로 저장 {key:value}\n",
        "item = {\n",
        "      0: 'T-shirt/top'\n",
        "    , 1: 'Trouser'\n",
        "    , 2: 'Pullover'\n",
        "    , 3: 'Dress'\n",
        "    , 4: 'Coat'\n",
        "    , 5: 'Sandal'\n",
        "    , 6: 'Shirt'\n",
        "    , 7: 'Sneaker'\n",
        "    , 8: 'Bag'\n",
        "    , 9: 'Ankle boot'\n",
        "}\n"
      ],
      "metadata": {
        "id": "N6wd3zrIuWoI"
      },
      "execution_count": 6,
      "outputs": []
    },
    {
      "cell_type": "code",
      "source": [
        "# 데이터 포멧 확인\n",
        "print(x_train.shape)\n",
        "print(y_train.shape)\n",
        "print(x_test.shape)\n",
        "print(y_test.shape)"
      ],
      "metadata": {
        "colab": {
          "base_uri": "https://localhost:8080/"
        },
        "id": "EJdisUP1wFit",
        "outputId": "e9c27dd6-c4ca-4318-98a8-66af6a7abada"
      },
      "execution_count": 7,
      "outputs": [
        {
          "output_type": "stream",
          "name": "stdout",
          "text": [
            "(60000, 28, 28)\n",
            "(60000,)\n",
            "(10000, 28, 28)\n",
            "(10000,)\n"
          ]
        }
      ]
    },
    {
      "cell_type": "code",
      "source": [
        "# train 이미지 확인\n",
        "plt.figure(figsize=(8,8))\n",
        "for i in range(16):\n",
        "  plt.subplot(4,4, i+1) # plt.subplot(row,column,index) == par(mfrow=c(4,4))\n",
        "  plt.suptitle(\"Train Images\", fontsize=20) # 하나의 큰 제목\n",
        "  plt.title(item[y_train[i]])\n",
        "  plt.imshow(x_train[i], cmap=plt.cm.gray)\n",
        "  plt.axis('off')\n",
        "\n",
        "plt.show()"
      ],
      "metadata": {
        "colab": {
          "base_uri": "https://localhost:8080/",
          "height": 523
        },
        "id": "iK2CQY3wwYns",
        "outputId": "6355a907-9b23-4220-d886-bcf4d73bc4be"
      },
      "execution_count": 8,
      "outputs": [
        {
          "output_type": "display_data",
          "data": {
            "text/plain": [
              "<Figure size 576x576 with 16 Axes>"
            ],
            "image/png": "[encoded data removed]"
          },
          "metadata": {
            "needs_background": "light"
          }
        }
      ]
    },
    {
      "cell_type": "code",
      "source": [
        "# test 이미지 확인\n",
        "plt.figure(figsize=(8,8))\n",
        "for i in range(16):\n",
        "  plt.subplot(4,4, i+1) # plt.subplot(row,column,index) == par(mfrow=c(4,4))\n",
        "  plt.suptitle(\"Test Images\", fontsize=20) # 하나의 큰 제목\n",
        "  plt.title(item[y_test[i]])\n",
        "  plt.imshow(x_test[i], cmap=plt.cm.gray)\n",
        "  plt.axis('off')\n",
        "\n",
        "plt.show()"
      ],
      "metadata": {
        "colab": {
          "base_uri": "https://localhost:8080/",
          "height": 523
        },
        "id": "egyUzij5x9c8",
        "outputId": "ea3d8943-73fa-4bce-b809-7ddc0b45f6fd"
      },
      "execution_count": 9,
      "outputs": [
        {
          "output_type": "display_data",
          "data": {
            "text/plain": [
              "<Figure size 576x576 with 16 Axes>"
            ],
            "image/png": "[encoded data removed]"
          },
          "metadata": {
            "needs_background": "light"
          }
        }
      ]
    },
    {
      "cell_type": "code",
      "source": [
        "## 전처리 ##\n",
        "# 이미지 데이터 전처리\n",
        "\n",
        "x_train = x_train.astype('float32') # datatype을 float32로 변경(GPU로 사용하기 위해서는 32bit)\n",
        "x_train = x_train/255 # normalization\n",
        "\n",
        "## 스케일링 : 시작점을 잘 찾기 위해서, (0,1) 또는 (-1,1)\n",
        "\n",
        "x_train = x_test.astype('float32')\n",
        "x_test = x_test/255"
      ],
      "metadata": {
        "id": "X-awopHH1smk"
      },
      "execution_count": 10,
      "outputs": []
    },
    {
      "cell_type": "code",
      "source": [
        "y_onehot_train = to_categorical(y_train, num_classes= 10) # one-hot encoding을 통해 10개의 레이블이 0,1 로 표현\n",
        "y_onehot_test = to_categorical(y_test, num_classes = 10)"
      ],
      "metadata": {
        "id": "vEvVB56l2sNc"
      },
      "execution_count": 11,
      "outputs": []
    },
    {
      "cell_type": "code",
      "source": [
        "y_onehot_train[0]"
      ],
      "metadata": {
        "colab": {
          "base_uri": "https://localhost:8080/"
        },
        "id": "CnK5cwv43Nar",
        "outputId": "0b1fbe97-44c5-4061-c5e6-2ca1222fb7b3"
      },
      "execution_count": 12,
      "outputs": [
        {
          "output_type": "execute_result",
          "data": {
            "text/plain": [
              "array([0., 0., 0., 0., 0., 0., 0., 0., 0., 1.], dtype=float32)"
            ]
          },
          "metadata": {},
          "execution_count": 12
        }
      ]
    },
    {
      "cell_type": "code",
      "source": [
        "# 전처리 결과\n",
        "for i in [x_train, y_onehot_train, x_test, y_onehot_test]:\n",
        "  print(i.shape)"
      ],
      "metadata": {
        "colab": {
          "base_uri": "https://localhost:8080/"
        },
        "id": "dd7UIOTn328o",
        "outputId": "2696c40c-9669-494f-a5bc-8346eaf3e045"
      },
      "execution_count": 13,
      "outputs": [
        {
          "output_type": "stream",
          "name": "stdout",
          "text": [
            "(10000, 28, 28)\n",
            "(60000, 10)\n",
            "(10000, 28, 28)\n",
            "(10000, 10)\n"
          ]
        }
      ]
    },
    {
      "cell_type": "code",
      "source": [
        "##  keras 를 활용한 모델 생성 ##\n",
        "OUTPUT_SHAPE = 10 # 출력 데이텉가 나오는 포맷\n",
        "BATCH_SIZE = 128 # 한 번에 처리할 데이터량 설정\n",
        "EPOCHS = 10 # 신경망을 학습할 횟수\n",
        "VERBOSE = 1 # 학습진행상황 출력모드(기본값=1)"
      ],
      "metadata": {
        "id": "XsJmxrzs4HJu"
      },
      "execution_count": 14,
      "outputs": []
    },
    {
      "cell_type": "code",
      "source": [
        " model = Sequential([ # 모델을 한층한층 쌓아라\n",
        "    Flatten(), # 데이터를 벡터의 형태로 바꿈(즉 현재 28x28matrix를 벡터로 바꾸어야 한다)\n",
        "    Dense(128,activation='relu'),  # 128개 노드마다 렐루 활성함수\n",
        "    Dense(64,activation='relu'),\n",
        "    Dense(10,activation='softmax') # y를 예측한다. \n",
        "])\n"
      ],
      "metadata": {
        "id": "8Yi2xGu3SyKu"
      },
      "execution_count": 49,
      "outputs": []
    },
    {
      "cell_type": "code",
      "source": [],
      "metadata": {
        "id": "M71iLxNFUrxc"
      },
      "execution_count": 41,
      "outputs": []
    },
    {
      "cell_type": "code",
      "source": [
        "## 신경망 모델 컴파일\n",
        "# : 어떠한 목적함수수사용하고, 목적함수를 최적화 할 때 사용될 최적화알고리즘 선택, 모형의 성능의 상황 모니터링은 어느것으러?\n",
        "\n",
        "model.compile(\n",
        "    optimizer = 'adam',\n",
        "    loss='categorical_crossentropy', \n",
        "    metrics=['accuracy']\n",
        ")\n",
        "\n",
        "## 컴파일 이란?? :주어진 language로 작성된 컴퓨터 프로그램을 다른 언어의 동등한 프로그램으로 변환하는 프로세스"
      ],
      "metadata": {
        "id": "-7Uxy0aOUxxS"
      },
      "execution_count": 50,
      "outputs": []
    },
    {
      "cell_type": "code",
      "source": [
        "history = model.fit(\n",
        "    x_train, y_onehot_train,\n",
        "    epochs = EPOCHS,\n",
        "    batch_size = BATCH_SIZE,\n",
        "    verbose = VERBOSE,\n",
        "    validation_split=0.3\n",
        ")\n",
        "\n",
        "# 2.11초, 로스값 22.277 정확도 0.0991 -> 로스값이 점점 작아지는 방향으로 작동동"
      ],
      "metadata": {
        "colab": {
          "base_uri": "https://localhost:8080/"
        },
        "id": "3_HyttVOVQKw",
        "outputId": "b4cda282-95f5-4d63-83f7-1adcd7702653"
      },
      "execution_count": 51,
      "outputs": [
        {
          "output_type": "stream",
          "name": "stdout",
          "text": [
            "Epoch 1/10\n",
            "55/55 [==============================] - 1s 9ms/step - loss: 36.3028 - accuracy: 0.0951 - val_loss: 14.1974 - val_accuracy: 0.1157\n",
            "Epoch 2/10\n",
            "55/55 [==============================] - 0s 6ms/step - loss: 10.2648 - accuracy: 0.1053 - val_loss: 8.9106 - val_accuracy: 0.1043\n",
            "Epoch 3/10\n",
            "55/55 [==============================] - 0s 5ms/step - loss: 6.0950 - accuracy: 0.1056 - val_loss: 4.6699 - val_accuracy: 0.0993\n",
            "Epoch 4/10\n",
            "55/55 [==============================] - 0s 5ms/step - loss: 4.0306 - accuracy: 0.1141 - val_loss: 3.9733 - val_accuracy: 0.0990\n",
            "Epoch 5/10\n",
            "55/55 [==============================] - 0s 5ms/step - loss: 3.4869 - accuracy: 0.1246 - val_loss: 3.6417 - val_accuracy: 0.0957\n",
            "Epoch 6/10\n",
            "55/55 [==============================] - 0s 8ms/step - loss: 3.1283 - accuracy: 0.1240 - val_loss: 3.2710 - val_accuracy: 0.1003\n",
            "Epoch 7/10\n",
            "55/55 [==============================] - 1s 9ms/step - loss: 2.8505 - accuracy: 0.1376 - val_loss: 3.1343 - val_accuracy: 0.0973\n",
            "Epoch 8/10\n",
            "55/55 [==============================] - 0s 9ms/step - loss: 2.7270 - accuracy: 0.1397 - val_loss: 3.0036 - val_accuracy: 0.0927\n",
            "Epoch 9/10\n",
            "55/55 [==============================] - 1s 10ms/step - loss: 2.5786 - accuracy: 0.1404 - val_loss: 2.8810 - val_accuracy: 0.1047\n",
            "Epoch 10/10\n",
            "55/55 [==============================] - 1s 10ms/step - loss: 2.4907 - accuracy: 0.1419 - val_loss: 2.8818 - val_accuracy: 0.1000\n"
          ]
        }
      ]
    },
    {
      "cell_type": "code",
      "source": [
        "## 결과확인\n",
        "\n",
        "plt.figure(figsize=(14,5))\n",
        "\n",
        "plt.subplot(1,2,1)\n",
        "plt.plot(history.history['accuracy'], label='Training Accuracy')\n",
        "plt.plot(history.history['val_accuracy'], label=\"Validation Accurary\")\n",
        "plt.legend(loc='lower right')\n",
        "plt.title(\"Training and Validation Accurary\")\n",
        "\n",
        "plt.subplot(1,2,2)\n",
        "plt.plot(history.history['loss'],label=\"Training Loss\")\n",
        "plt.plot(history.history['val_loss'],label=\"Validation Loss\")\n",
        "plt.legend(loc='upper right')\n",
        "plt.title(\"Training and Validation Loss\")\n",
        "\n",
        "plt.show()"
      ],
      "metadata": {
        "colab": {
          "base_uri": "https://localhost:8080/",
          "height": 336
        },
        "id": "YnO0WlQ8Yz17",
        "outputId": "3d37169c-7069-42fe-e60a-4a84caf023aa"
      },
      "execution_count": 52,
      "outputs": [
        {
          "output_type": "display_data",
          "data": {
            "text/plain": [
              "<Figure size 1008x360 with 2 Axes>"
            ],
            "image/png": "[encoded data removed]"
          },
          "metadata": {
            "needs_background": "light"
          }
        }
      ]
    },
    {
      "cell_type": "code",
      "source": [
        "history.history"
      ],
      "metadata": {
        "colab": {
          "base_uri": "https://localhost:8080/"
        },
        "id": "Ar4dSNslbvnI",
        "outputId": "fec52b4e-f6cb-4168-e764-9f7284bbebe6"
      },
      "execution_count": 53,
      "outputs": [
        {
          "output_type": "execute_result",
          "data": {
            "text/plain": [
              "{'loss': [36.30278015136719,\n",
              "  10.264822959899902,\n",
              "  6.09501838684082,\n",
              "  4.030606746673584,\n",
              "  3.4868721961975098,\n",
              "  3.1282684803009033,\n",
              "  2.8505403995513916,\n",
              "  2.727003812789917,\n",
              "  2.5786314010620117,\n",
              "  2.490652322769165],\n",
              " 'accuracy': [0.09514285624027252,\n",
              "  0.10528571158647537,\n",
              "  0.10557142645120621,\n",
              "  0.11414285749197006,\n",
              "  0.12457142770290375,\n",
              "  0.12399999797344208,\n",
              "  0.13757142424583435,\n",
              "  0.1397142857313156,\n",
              "  0.1404285728931427,\n",
              "  0.14185714721679688],\n",
              " 'val_loss': [14.197434425354004,\n",
              "  8.910634994506836,\n",
              "  4.669893741607666,\n",
              "  3.9732775688171387,\n",
              "  3.6416945457458496,\n",
              "  3.270972728729248,\n",
              "  3.134253978729248,\n",
              "  3.003589153289795,\n",
              "  2.8809919357299805,\n",
              "  2.881826877593994],\n",
              " 'val_accuracy': [0.11566666513681412,\n",
              "  0.10433333367109299,\n",
              "  0.09933333098888397,\n",
              "  0.0989999994635582,\n",
              "  0.09566666930913925,\n",
              "  0.1003333330154419,\n",
              "  0.09733333438634872,\n",
              "  0.09266666322946548,\n",
              "  0.10466666519641876,\n",
              "  0.10000000149011612]}"
            ]
          },
          "metadata": {},
          "execution_count": 53
        }
      ]
    },
    {
      "cell_type": "code",
      "source": [
        "## 신경망 모델 평가\n",
        "\n",
        "# 테스트 데이터를 이용한 평가\n",
        "\n",
        "model.evaluate(x_test, y_onehot_test)\n"
      ],
      "metadata": {
        "colab": {
          "base_uri": "https://localhost:8080/"
        },
        "id": "oVJ9EJ8ydIu9",
        "outputId": "71358578-a365-48c9-ffb9-bdfef2a2dfe1"
      },
      "execution_count": 54,
      "outputs": [
        {
          "output_type": "stream",
          "name": "stdout",
          "text": [
            "313/313 [==============================] - 1s 3ms/step - loss: 2.3028 - accuracy: 0.0725\n"
          ]
        },
        {
          "output_type": "execute_result",
          "data": {
            "text/plain": [
              "[2.302767038345337, 0.07249999791383743]"
            ]
          },
          "metadata": {},
          "execution_count": 54
        }
      ]
    },
    {
      "cell_type": "code",
      "source": [
        "y_pred_enc = model.predict(x_test)\n",
        "y_pred_enc[0:5]"
      ],
      "metadata": {
        "colab": {
          "base_uri": "https://localhost:8080/"
        },
        "id": "7oMRwB0WdwQq",
        "outputId": "60532283-fdad-4d2c-b863-e8e83597a9c5"
      },
      "execution_count": 55,
      "outputs": [
        {
          "output_type": "stream",
          "name": "stdout",
          "text": [
            "313/313 [==============================] - 1s 2ms/step\n"
          ]
        },
        {
          "output_type": "execute_result",
          "data": {
            "text/plain": [
              "array([[0.10417948, 0.09859125, 0.10085574, 0.10354046, 0.09763931,\n",
              "        0.10451522, 0.09485963, 0.09899314, 0.09950727, 0.09731843],\n",
              "       [0.10402194, 0.09917349, 0.10104007, 0.10351725, 0.09734828,\n",
              "        0.10488656, 0.09462393, 0.0981354 , 0.10015401, 0.09709891],\n",
              "       [0.10408854, 0.09857799, 0.10124936, 0.10384382, 0.09779164,\n",
              "        0.10472948, 0.09475306, 0.09842546, 0.09993656, 0.09660406],\n",
              "       [0.10488006, 0.0984387 , 0.10127757, 0.10367087, 0.09742574,\n",
              "        0.10460826, 0.09500045, 0.09871384, 0.09989329, 0.09609122],\n",
              "       [0.104489  , 0.09859867, 0.10070131, 0.10366493, 0.09785833,\n",
              "        0.10463531, 0.09493029, 0.09887929, 0.09965866, 0.09658425]],\n",
              "      dtype=float32)"
            ]
          },
          "metadata": {},
          "execution_count": 55
        }
      ]
    },
    {
      "cell_type": "code",
      "source": [
        "y_pred=[np.argmax(i) for i in y_pred_enc]"
      ],
      "metadata": {
        "id": "I6nYuPCGeGO0"
      },
      "execution_count": 58,
      "outputs": []
    },
    {
      "cell_type": "code",
      "source": [
        "y_pred[0:10]"
      ],
      "metadata": {
        "colab": {
          "base_uri": "https://localhost:8080/"
        },
        "id": "Tl3Ply1IepTi",
        "outputId": "85b9d4c5-0789-48c2-fd2c-e467271abc45"
      },
      "execution_count": 59,
      "outputs": [
        {
          "output_type": "execute_result",
          "data": {
            "text/plain": [
              "[5, 5, 5, 0, 5, 5, 0, 5, 5, 5]"
            ]
          },
          "metadata": {},
          "execution_count": 59
        }
      ]
    },
    {
      "cell_type": "code",
      "source": [
        "fig, ax = plt.subplots(figsize=(8,8))\n",
        "for idx, row in enumerate(x_test[:16]) :\n",
        "  plt.subplot(4,4,idx+1)\n",
        "  img = row.reshape(28,28)\n",
        "  fig.suptitle(\"Predicted values\", fontsize=20)\n",
        "  plt.axis('off')\n",
        "  plt.imshow(img,cmap=plt.cm.gray)"
      ],
      "metadata": {
        "colab": {
          "base_uri": "https://localhost:8080/",
          "height": 523
        },
        "id": "Lral1Cx6erDG",
        "outputId": "156cc6c5-4168-4bc4-8904-4c4108e9659b"
      },
      "execution_count": 60,
      "outputs": [
        {
          "output_type": "display_data",
          "data": {
            "text/plain": [
              "<Figure size 576x576 with 16 Axes>"
            ],
            "image/png": "[encoded data removed]"
          },
          "metadata": {
            "needs_background": "light"
          }
        }
      ]
    },
    {
      "cell_type": "code",
      "source": [
        "## 혼동행렬 = 오차행렬\n",
        "\n",
        "matrix = confusion_matrix(y_test, y_pred)\n",
        "df = pd.DataFrame(matrix)\n",
        "df.colums = item.values()\n",
        "df.index = item.values()\n",
        "df"
      ],
      "metadata": {
        "colab": {
          "base_uri": "https://localhost:8080/",
          "height": 399
        },
        "id": "urKXRgKmFEc6",
        "outputId": "b45b3e52-6ddb-4faa-e254-a4ddd0d17ea7"
      },
      "execution_count": 63,
      "outputs": [
        {
          "output_type": "stream",
          "name": "stderr",
          "text": [
            "<ipython-input-63-5dba0e0f0e87>:5: UserWarning: Pandas doesn't allow columns to be created via a new attribute name - see https://pandas.pydata.org/pandas-docs/stable/indexing.html#attribute-access\n",
            "  df.colums = item.values()\n"
          ]
        },
        {
          "output_type": "execute_result",
          "data": {
            "text/plain": [
              "               0  1  2   3  4    5  6  7  8  9\n",
              "T-shirt/top   26  0  0   9  0  965  0  0  0  0\n",
              "Trouser       23  0  0   4  0  973  0  0  0  0\n",
              "Pullover      24  0  0   7  0  969  0  0  0  0\n",
              "Dress         33  0  0  15  0  952  0  0  0  0\n",
              "Coat          26  0  0   6  0  968  0  0  0  0\n",
              "Sandal       226  0  0  89  1  684  0  0  0  0\n",
              "Shirt         26  0  0   9  0  965  0  0  0  0\n",
              "Sneaker       44  0  0   4  0  952  0  0  0  0\n",
              "Bag           94  0  0  12  0  894  0  0  0  0\n",
              "Ankle boot    70  0  0   9  0  921  0  0  0  0"
            ],
            "text/html": [
              "\n",
              "  <div id=\"df-0c382acb-b082-4b27-a15f-ded0e7dd705b\">\n",
              "    <div class=\"colab-df-container\">\n",
              "      <div>\n",
              "<style scoped>\n",
              "    .dataframe tbody tr th:only-of-type {\n",
              "        vertical-align: middle;\n",
              "    }\n",
              "\n",
              "    .dataframe tbody tr th {\n",
              "        vertical-align: top;\n",
              "    }\n",
              "\n",
              "    .dataframe thead th {\n",
              "        text-align: right;\n",
              "    }\n",
              "</style>\n",
              "<table border=\"1\" class=\"dataframe\">\n",
              "  <thead>\n",
              "    <tr style=\"text-align: right;\">\n",
              "      <th></th>\n",
              "      <th>0</th>\n",
              "      <th>1</th>\n",
              "      <th>2</th>\n",
              "      <th>3</th>\n",
              "      <th>4</th>\n",
              "      <th>5</th>\n",
              "      <th>6</th>\n",
              "      <th>7</th>\n",
              "      <th>8</th>\n",
              "      <th>9</th>\n",
              "    </tr>\n",
              "  </thead>\n",
              "  <tbody>\n",
              "    <tr>\n",
              "      <th>T-shirt/top</th>\n",
              "      <td>26</td>\n",
              "      <td>0</td>\n",
              "      <td>0</td>\n",
              "      <td>9</td>\n",
              "      <td>0</td>\n",
              "      <td>965</td>\n",
              "      <td>0</td>\n",
              "      <td>0</td>\n",
              "      <td>0</td>\n",
              "      <td>0</td>\n",
              "    </tr>\n",
              "    <tr>\n",
              "      <th>Trouser</th>\n",
              "      <td>23</td>\n",
              "      <td>0</td>\n",
              "      <td>0</td>\n",
              "      <td>4</td>\n",
              "      <td>0</td>\n",
              "      <td>973</td>\n",
              "      <td>0</td>\n",
              "      <td>0</td>\n",
              "      <td>0</td>\n",
              "      <td>0</td>\n",
              "    </tr>\n",
              "    <tr>\n",
              "      <th>Pullover</th>\n",
              "      <td>24</td>\n",
              "      <td>0</td>\n",
              "      <td>0</td>\n",
              "      <td>7</td>\n",
              "      <td>0</td>\n",
              "      <td>969</td>\n",
              "      <td>0</td>\n",
              "      <td>0</td>\n",
              "      <td>0</td>\n",
              "      <td>0</td>\n",
              "    </tr>\n",
              "    <tr>\n",
              "      <th>Dress</th>\n",
              "      <td>33</td>\n",
              "      <td>0</td>\n",
              "      <td>0</td>\n",
              "      <td>15</td>\n",
              "      <td>0</td>\n",
              "      <td>952</td>\n",
              "      <td>0</td>\n",
              "      <td>0</td>\n",
              "      <td>0</td>\n",
              "      <td>0</td>\n",
              "    </tr>\n",
              "    <tr>\n",
              "      <th>Coat</th>\n",
              "      <td>26</td>\n",
              "      <td>0</td>\n",
              "      <td>0</td>\n",
              "      <td>6</td>\n",
              "      <td>0</td>\n",
              "      <td>968</td>\n",
              "      <td>0</td>\n",
              "      <td>0</td>\n",
              "      <td>0</td>\n",
              "      <td>0</td>\n",
              "    </tr>\n",
              "    <tr>\n",
              "      <th>Sandal</th>\n",
              "      <td>226</td>\n",
              "      <td>0</td>\n",
              "      <td>0</td>\n",
              "      <td>89</td>\n",
              "      <td>1</td>\n",
              "      <td>684</td>\n",
              "      <td>0</td>\n",
              "      <td>0</td>\n",
              "      <td>0</td>\n",
              "      <td>0</td>\n",
              "    </tr>\n",
              "    <tr>\n",
              "      <th>Shirt</th>\n",
              "      <td>26</td>\n",
              "      <td>0</td>\n",
              "      <td>0</td>\n",
              "      <td>9</td>\n",
              "      <td>0</td>\n",
              "      <td>965</td>\n",
              "      <td>0</td>\n",
              "      <td>0</td>\n",
              "      <td>0</td>\n",
              "      <td>0</td>\n",
              "    </tr>\n",
              "    <tr>\n",
              "      <th>Sneaker</th>\n",
              "      <td>44</td>\n",
              "      <td>0</td>\n",
              "      <td>0</td>\n",
              "      <td>4</td>\n",
              "      <td>0</td>\n",
              "      <td>952</td>\n",
              "      <td>0</td>\n",
              "      <td>0</td>\n",
              "      <td>0</td>\n",
              "      <td>0</td>\n",
              "    </tr>\n",
              "    <tr>\n",
              "      <th>Bag</th>\n",
              "      <td>94</td>\n",
              "      <td>0</td>\n",
              "      <td>0</td>\n",
              "      <td>12</td>\n",
              "      <td>0</td>\n",
              "      <td>894</td>\n",
              "      <td>0</td>\n",
              "      <td>0</td>\n",
              "      <td>0</td>\n",
              "      <td>0</td>\n",
              "    </tr>\n",
              "    <tr>\n",
              "      <th>Ankle boot</th>\n",
              "      <td>70</td>\n",
              "      <td>0</td>\n",
              "      <td>0</td>\n",
              "      <td>9</td>\n",
              "      <td>0</td>\n",
              "      <td>921</td>\n",
              "      <td>0</td>\n",
              "      <td>0</td>\n",
              "      <td>0</td>\n",
              "      <td>0</td>\n",
              "    </tr>\n",
              "  </tbody>\n",
              "</table>\n",
              "</div>\n",
              "      <button class=\"colab-df-convert\" onclick=\"convertToInteractive('df-0c382acb-b082-4b27-a15f-ded0e7dd705b')\"\n",
              "              title=\"Convert this dataframe to an interactive table.\"\n",
              "              style=\"display:none;\">\n",
              "        \n",
              "  <svg xmlns=\"http://www.w3.org/2000/svg\" height=\"24px\"viewBox=\"0 0 24 24\"\n",
              "       width=\"24px\">\n",
              "    <path d=\"M0 0h24v24H0V0z\" fill=\"none\"/>\n",
              "    <path d=\"M18.56 5.44l.94 2.06.94-2.06 2.06-.94-2.06-.94-.94-2.06-.94 2.06-2.06.94zm-11 1L8.5 8.5l.94-2.06 2.06-.94-2.06-.94L8.5 2.5l-.94 2.06-2.06.94zm10 10l.94 2.06.94-2.06 2.06-.94-2.06-.94-.94-2.06-.94 2.06-2.06.94z\"/><path d=\"M17.41 7.96l-1.37-1.37c-.4-.4-.92-.59-1.43-.59-.52 0-1.04.2-1.43.59L10.3 9.45l-7.72 7.72c-.78.78-.78 2.05 0 2.83L4 21.41c.39.39.9.59 1.41.59.51 0 1.02-.2 1.41-.59l7.78-7.78 2.81-2.81c.8-.78.8-2.07 0-2.86zM5.41 20L4 18.59l7.72-7.72 1.47 1.35L5.41 20z\"/>\n",
              "  </svg>\n",
              "      </button>\n",
              "      \n",
              "  <style>\n",
              "    .colab-df-container {\n",
              "      display:flex;\n",
              "      flex-wrap:wrap;\n",
              "      gap: 12px;\n",
              "    }\n",
              "\n",
              "    .colab-df-convert {\n",
              "      background-color: #E8F0FE;\n",
              "      border: none;\n",
              "      border-radius: 50%;\n",
              "      cursor: pointer;\n",
              "      display: none;\n",
              "      fill: #1967D2;\n",
              "      height: 32px;\n",
              "      padding: 0 0 0 0;\n",
              "      width: 32px;\n",
              "    }\n",
              "\n",
              "    .colab-df-convert:hover {\n",
              "      background-color: #E2EBFA;\n",
              "      box-shadow: 0px 1px 2px rgba(60, 64, 67, 0.3), 0px 1px 3px 1px rgba(60, 64, 67, 0.15);\n",
              "      fill: #174EA6;\n",
              "    }\n",
              "\n",
              "    [theme=dark] .colab-df-convert {\n",
              "      background-color: #3B4455;\n",
              "      fill: #D2E3FC;\n",
              "    }\n",
              "\n",
              "    [theme=dark] .colab-df-convert:hover {\n",
              "      background-color: #434B5C;\n",
              "      box-shadow: 0px 1px 3px 1px rgba(0, 0, 0, 0.15);\n",
              "      filter: drop-shadow(0px 1px 2px rgba(0, 0, 0, 0.3));\n",
              "      fill: #FFFFFF;\n",
              "    }\n",
              "  </style>\n",
              "\n",
              "      <script>\n",
              "        const buttonEl =\n",
              "          document.querySelector('#df-0c382acb-b082-4b27-a15f-ded0e7dd705b button.colab-df-convert');\n",
              "        buttonEl.style.display =\n",
              "          google.colab.kernel.accessAllowed ? 'block' : 'none';\n",
              "\n",
              "        async function convertToInteractive(key) {\n",
              "          const element = document.querySelector('#df-0c382acb-b082-4b27-a15f-ded0e7dd705b');\n",
              "          const dataTable =\n",
              "            await google.colab.kernel.invokeFunction('convertToInteractive',\n",
              "                                                     [key], {});\n",
              "          if (!dataTable) return;\n",
              "\n",
              "          const docLinkHtml = 'Like what you see? Visit the ' +\n",
              "            '<a target=\"_blank\" href=https://colab.research.google.com/notebooks/data_table.ipynb>data table notebook</a>'\n",
              "            + ' to learn more about interactive tables.';\n",
              "          element.innerHTML = '';\n",
              "          dataTable['output_type'] = 'display_data';\n",
              "          await google.colab.output.renderOutput(dataTable, element);\n",
              "          const docLink = document.createElement('div');\n",
              "          docLink.innerHTML = docLinkHtml;\n",
              "          element.appendChild(docLink);\n",
              "        }\n",
              "      </script>\n",
              "    </div>\n",
              "  </div>\n",
              "  "
            ]
          },
          "metadata": {},
          "execution_count": 63
        }
      ]
    },
    {
      "cell_type": "code",
      "source": [],
      "metadata": {
        "id": "wFWSCnUEH09S"
      },
      "execution_count": null,
      "outputs": []
    }
  ]
}